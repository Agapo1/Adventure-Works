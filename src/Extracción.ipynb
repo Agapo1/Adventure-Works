{
 "cells": [
  {
   "cell_type": "code",
   "execution_count": 1,
   "id": "ecff640b",
   "metadata": {},
   "outputs": [],
   "source": [
    "from pyspark.sql import SparkSession\n",
    "from delta import configure_spark_with_delta_pip\n",
    "\n",
    "builder = SparkSession.builder \\\n",
    "    .appName(\"Delta Spark 4.0.0\") \\\n",
    "    .master(\"local[*]\") \\\n",
    "    .enableHiveSupport() \\\n",
    "    .config(\"spark.sql.extensions\", \"io.delta.sql.DeltaSparkSessionExtension\") \\\n",
    "    .config(\"spark.sql.catalog.spark_catalog\", \"org.apache.spark.sql.delta.catalog.DeltaCatalog\")\n",
    "\n",
    "spark = configure_spark_with_delta_pip(builder).getOrCreate()"
   ]
  },
  {
   "cell_type": "code",
   "execution_count": 2,
   "id": "78d3c830",
   "metadata": {},
   "outputs": [],
   "source": [
    "from pyspark.sql import SparkSession\n",
    "from pyspark.sql.functions import current_timestamp, input_file_name\n",
    "\n",
    "df_customer = spark.read.csv(\"../data/Customer.csv\", header = True, inferSchema=True)\\\n",
    "    .withColumn(\"fecha_carga\", current_timestamp())\\\n",
    "    .withColumn(\"archivo_origen\", input_file_name())\n",
    "df_product = spark.read.csv(\"../data/Product.csv\", header = True, inferSchema=True)\\\n",
    "    .withColumn(\"fecha_carga\", current_timestamp())\\\n",
    "    .withColumn(\"archivo_origen\", input_file_name())\n",
    "df_so_detail = spark.read.csv(\"../data/SalesOrderDetail.csv\", header = True, inferSchema=True)\\\n",
    "    .withColumn(\"fecha_carga\", current_timestamp())\\\n",
    "    .withColumn(\"archivo_origen\", input_file_name())\n",
    "df_so_header = spark.read.csv(\"../data/SalesOrderHeader.csv\", header = True, inferSchema=True)\\\n",
    "    .withColumn(\"fecha_carga\", current_timestamp())\\\n",
    "    .withColumn(\"archivo_origen\", input_file_name())\n",
    "df_s_territory = spark.read.csv(\"../data/SalesTerritory.csv\", header = True, inferSchema=True)\\\n",
    "    .withColumn(\"fecha_carga\", current_timestamp())\\\n",
    "    .withColumn(\"archivo_origen\", input_file_name())"
   ]
  },
  {
   "cell_type": "code",
   "execution_count": null,
   "id": "3f9b2204",
   "metadata": {},
   "outputs": [],
   "source": [
    "df_customer.write.format(\"delta\").mode(\"overwrite\").save(\"../sql/dw_bronze/customer\")\n",
    "df_product.write.format(\"delta\").mode(\"overwrite\").save(\"../sql/dw_bronze/product\")\n",
    "df_so_detail.write.format(\"delta\").mode(\"overwrite\").save(\"../sql/dw_bronze/so_detail\")\n",
    "df_so_header.write.format(\"delta\").mode(\"overwrite\").save(\"../sql/dw_bronze/so_header\")\n",
    "df_s_territory.write.format(\"delta\").mode(\"overwrite\").save(\"../sql/dw_bronze/s_terrotory\")"
   ]
  }
 ],
 "metadata": {
  "kernelspec": {
   "display_name": "Python 3",
   "language": "python",
   "name": "python3"
  },
  "language_info": {
   "codemirror_mode": {
    "name": "ipython",
    "version": 3
   },
   "file_extension": ".py",
   "mimetype": "text/x-python",
   "name": "python",
   "nbconvert_exporter": "python",
   "pygments_lexer": "ipython3",
   "version": "3.13.5"
  }
 },
 "nbformat": 4,
 "nbformat_minor": 5
}

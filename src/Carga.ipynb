{
 "cells": [
  {
   "cell_type": "code",
   "execution_count": 33,
   "id": "e9c2dcaf",
   "metadata": {},
   "outputs": [],
   "source": [
    "from pyspark.sql import SparkSession\n",
    "from delta import configure_spark_with_delta_pip\n",
    "\n",
    "builder = SparkSession.builder \\\n",
    "    .appName(\"Delta Spark 4.0.0\") \\\n",
    "    .master(\"local[*]\") \\\n",
    "    .enableHiveSupport() \\\n",
    "    .config(\"spark.sql.extensions\", \"io.delta.sql.DeltaSparkSessionExtension\") \\\n",
    "    .config(\"spark.sql.catalog.spark_catalog\", \"org.apache.spark.sql.delta.catalog.DeltaCatalog\")\n",
    "\n",
    "spark = configure_spark_with_delta_pip(builder).getOrCreate()"
   ]
  },
  {
   "cell_type": "code",
   "execution_count": 34,
   "id": "dbfd57b6",
   "metadata": {},
   "outputs": [],
   "source": [
    "#CARGANDO INFORMACIÓN EN DATAFRAMES\n",
    "dim_ventas = spark.read.format(\"delta\").load(\"../sql/dw_silver/dim_ventas\")\n",
    "dim_productos = spark.read.format(\"delta\").load(\"../sql/dw_silver/dim_productos\")\n",
    "dim_clientes = spark.read.format(\"delta\").load(\"../sql/dw_silver/dim_clientes\")\n",
    "dim_territorio = spark.read.format(\"delta\").load(\"../sql/dw_silver/dim_territorio\")\n",
    "dim_fecha = spark.read.format(\"delta\").load(\"../sql/dw_silver/dim_fecha\")"
   ]
  },
  {
   "cell_type": "code",
   "execution_count": null,
   "id": "f3ce1b44",
   "metadata": {},
   "outputs": [],
   "source": [
    "#CREACIÓN DE TABLA DE HECHOS\n",
    "from pyspark.sql.functions import date_format, col\n",
    "df_hechos = dim_ventas.select(\n",
    "    \"ProductoID\",\n",
    "    \"PedidoID\",\n",
    "    date_format(col(\"FechaPedido\"), \"yyyyMMdd\").cast(\"int\").alias(\"FechaID\"),\n",
    "    \"ClienteID\",\n",
    "    \"TerritorioID\",\n",
    "    \"Cantidad_pedido\",\n",
    "    \"Linea_total\"\n",
    ")\n",
    "df_hechos.show()"
   ]
  },
  {
   "cell_type": "code",
   "execution_count": 37,
   "id": "31347777",
   "metadata": {},
   "outputs": [],
   "source": [
    "df_hechos.write.option(\"mergeSchema\", \"true\").format(\"delta\").mode(\"overwrite\").save(\"../sql/dw_gold/df_hechos\")"
   ]
  },
  {
   "cell_type": "code",
   "execution_count": null,
   "id": "745cd569",
   "metadata": {},
   "outputs": [],
   "source": [
    "#OPERACIONES DE CONSULTAS\n",
    "from pyspark.sql.functions import sum as _sum, round\n",
    "\n",
    "#SUMA DE VENTAS POR CONTINENTE\n",
    "df_ventas_continente = df_hechos.join(\n",
    "    dim_territorio,\n",
    "    on = \"TerritorioID\",\n",
    "    how = \"inner\"\n",
    ").groupBy(\"Continente\").agg(\n",
    "    round(_sum(\"Linea_total\"), 2).alias(\"Suma_Total\")\n",
    ")\n",
    "df_ventas_continente.show()\n",
    "\n",
    "#CANTIDAD VENDIDA POR PRODUCTO - AÑADIR TIPO O CLASIFICACIÓN DE PRODUCTO\n",
    "df_cant_vendida = df_hechos.join(\n",
    "    dim_productos,\n",
    "    on = \"ProductoID\",\n",
    "    how = \"Inner\"\n",
    ").groupBy(\"Nombre_producto\").agg(\n",
    "    round(_sum(\"Precio_lista\"), 2).alias(\"Suma_Total\")\n",
    ")\n",
    "df_cant_vendida.show()\n",
    "\n",
    "#TOP 10 PRODUCTOS MÁS VENDIDOS - AÑADIR TIPO O CLASIFICACIÓN DE PRODUCTO\n",
    "df_top = df_hechos.join(\n",
    "    dim_productos,\n",
    "    on = \"ProductoID\",\n",
    "    how = \"inner\"\n",
    ").groupBy(\"Nombre_producto\").agg(\n",
    "    round(_sum(\"Cantidad_pedido\"),2).alias(\"Suma_Cantidad\")\n",
    ").orderBy(\"Suma_Cantidad\", ascending = False).limit(10)\n",
    "df_top.show()\n",
    "\n",
    "#VENTAS AGRUPADAS POR CONTINENTE\n",
    "df_ventas_agrupadas = df_hechos.join(\n",
    "    dim_territorio,\n",
    "    on = \"TerritorioID\",\n",
    "    how = \"inner\"\n",
    ").join(\n",
    "    dim_productos,\n",
    "    on = \"ProductoID\",\n",
    "    how = \"Inner\"\n",
    ").groupBy(\"Continente\",\"Nombre_producto\").agg(round(_sum(\"Linea_total\"),2).alias(\"Costo_Ventas_Continente\"))\n",
    "df_ventas_agrupadas.show()\n",
    "\n",
    "#VENTAS REALIZADAS POR CONTINENTES POR FECHA\n",
    "df_ventas_fecha = df_hechos.join(\n",
    "    dim_fecha,\n",
    "    on = \"FechaID\",\n",
    "    how = \"Inner\"\n",
    ").join(\n",
    "    dim_territorio,\n",
    "    on = \"TerritorioID\",\n",
    "    how = \"inner\"\n",
    ").groupBy(\"Continente\",\"Fecha\").agg(round(_sum(\"Linea_total\"),2).alias(\"Ventas\"))\n",
    "df_ventas_fecha.show()"
   ]
  }
 ],
 "metadata": {
  "kernelspec": {
   "display_name": "Python 3",
   "language": "python",
   "name": "python3"
  },
  "language_info": {
   "codemirror_mode": {
    "name": "ipython",
    "version": 3
   },
   "file_extension": ".py",
   "mimetype": "text/x-python",
   "name": "python",
   "nbconvert_exporter": "python",
   "pygments_lexer": "ipython3",
   "version": "3.13.5"
  }
 },
 "nbformat": 4,
 "nbformat_minor": 5
}

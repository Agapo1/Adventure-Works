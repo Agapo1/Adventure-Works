{
 "cells": [
  {
   "cell_type": "code",
   "execution_count": 4,
   "id": "e9c2dcaf",
   "metadata": {},
   "outputs": [],
   "source": [
    "from pyspark.sql import SparkSession\n",
    "from delta import configure_spark_with_delta_pip\n",
    "\n",
    "builder = SparkSession.builder \\\n",
    "    .appName(\"Delta Spark 4.0.0\") \\\n",
    "    .master(\"local[*]\") \\\n",
    "    .enableHiveSupport() \\\n",
    "    .config(\"spark.sql.extensions\", \"io.delta.sql.DeltaSparkSessionExtension\") \\\n",
    "    .config(\"spark.sql.catalog.spark_catalog\", \"org.apache.spark.sql.delta.catalog.DeltaCatalog\")\n",
    "\n",
    "spark = configure_spark_with_delta_pip(builder).getOrCreate()"
   ]
  },
  {
   "cell_type": "code",
   "execution_count": 5,
   "id": "dbfd57b6",
   "metadata": {},
   "outputs": [],
   "source": [
    "#CARGANDO INFORMACIÓN EN DATAFRAMES\n",
    "dim_ventas = spark.read.format(\"delta\").load(\"../sql/dw_silver/dim_ventas\")\n",
    "dim_productos = spark.read.format(\"delta\").load(\"../sql/dw_silver/dim_productos\")\n",
    "dim_clientes = spark.read.format(\"delta\").load(\"../sql/dw_silver/dim_clientes\")\n",
    "dim_territorio = spark.read.format(\"delta\").load(\"../sql/dw_silver/dim_territorio\")\n",
    "dim_fecha = spark.read.format(\"delta\").load(\"../sql/dw_silver/dim_fecha\")"
   ]
  },
  {
   "cell_type": "code",
   "execution_count": null,
   "id": "f3ce1b44",
   "metadata": {},
   "outputs": [],
   "source": [
    "#CREACIÓN DE TABLA DE HECHOS\n",
    "df_hechos = dim_ventas.select(\n",
    "    \"ProductoID\",\n",
    "    \"PedidoID\",\n",
    "    \"ClienteID\",\n",
    "    \"TerritorioID\",\n",
    "    \"Cantidad_pedido\",\n",
    "    \"Precio_Unitario\",\n",
    "    \"Linea_total\"\n",
    ")\n",
    "df_hechos.show()"
   ]
  },
  {
   "cell_type": "code",
   "execution_count": 22,
   "id": "31347777",
   "metadata": {},
   "outputs": [],
   "source": [
    "df_hechos.write.format(\"delta\").mode(\"overwrite\").save(\"../sql/dw_gold/df_hechos\")"
   ]
  },
  {
   "cell_type": "code",
   "execution_count": 20,
   "id": "745cd569",
   "metadata": {},
   "outputs": [
    {
     "name": "stdout",
     "output_type": "stream",
     "text": [
      "+-------------+-------------+\n",
      "|   Continente|   Suma_Total|\n",
      "+-------------+-------------+\n",
      "|       Europe|   9180532.57|\n",
      "|North America|1.482072734E7|\n",
      "|      Pacific|   8979109.04|\n",
      "+-------------+-------------+\n",
      "\n"
     ]
    }
   ],
   "source": [
    "#SUMA DE VENTAS POR CONTINENTE\n",
    "from pyspark.sql.functions import sum as _sum, round\n",
    "df_ventas_continente = df_hechos.join(\n",
    "    dim_territorio,\n",
    "    on = \"TerritorioID\",\n",
    "    how = \"inner\"\n",
    ").groupBy(\"Continente\").agg(\n",
    "    round(_sum(\"Linea_total\"), 2).alias(\"Suma_Total\")\n",
    ")\n",
    "\n",
    "df_ventas_continente.show()"
   ]
  }
 ],
 "metadata": {
  "kernelspec": {
   "display_name": "Python 3",
   "language": "python",
   "name": "python3"
  },
  "language_info": {
   "codemirror_mode": {
    "name": "ipython",
    "version": 3
   },
   "file_extension": ".py",
   "mimetype": "text/x-python",
   "name": "python",
   "nbconvert_exporter": "python",
   "pygments_lexer": "ipython3",
   "version": "3.13.5"
  }
 },
 "nbformat": 4,
 "nbformat_minor": 5
}
